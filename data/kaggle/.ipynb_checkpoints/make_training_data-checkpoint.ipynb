{
 "cells": [
  {
   "cell_type": "code",
   "execution_count": 1,
   "metadata": {},
   "outputs": [],
   "source": [
    "import torch\n",
    "import pandas as pd\n",
    "import matplotlib.pyplot as plt\n",
    "import csv"
   ]
  },
  {
   "cell_type": "code",
   "execution_count": 2,
   "metadata": {},
   "outputs": [],
   "source": [
    "# Dataset config\n",
    "TIME_BEG = 1451606400 # = year 2016\n",
    "# TIME_BEG = 1546347600 # = year 2019\n",
    "TIME_INTERVAL = 60 # minutes\n",
    "LEN_ENCODE_SERIE = 24\n",
    "LEN_DECODE_SERIE = 2"
   ]
  },
  {
   "cell_type": "code",
   "execution_count": 3,
   "metadata": {},
   "outputs": [],
   "source": [
    "# Read csv file\n",
    "prices = None\n",
    "with open('kaggle_1min.csv', 'r') as f:\n",
    "    reader = csv.reader(f)\n",
    "    prices = list(reader)"
   ]
  },
  {
   "cell_type": "code",
   "execution_count": 4,
   "metadata": {},
   "outputs": [
    {
     "name": "stdout",
     "output_type": "stream",
     "text": [
      "Original dataframe:            Timestamp      Open      High       Low     Close Volume_(BTC)  \\\n",
      "0        1325317920      4.39      4.39      4.39      4.39   0.45558087   \n",
      "1        1325317980       NaN       NaN       NaN       NaN          NaN   \n",
      "2        1325318040       NaN       NaN       NaN       NaN          NaN   \n",
      "3        1325318100       NaN       NaN       NaN       NaN          NaN   \n",
      "4        1325318160       NaN       NaN       NaN       NaN          NaN   \n",
      "...             ...       ...       ...       ...       ...          ...   \n",
      "4727772  1609372560  28801.47  28829.42  28785.64  28829.42   0.96522104   \n",
      "4727773  1609372620  28829.42   28863.9  28829.42  28857.06   2.36883117   \n",
      "4727774  1609372680  28850.49  28900.52  28850.49  28882.82   2.46658976   \n",
      "4727775  1609372740  28910.54  28911.52   28867.6   28881.3     7.332773   \n",
      "4727776  1609372800  28893.21  28928.49  28893.21  28928.49   5.75767938   \n",
      "\n",
      "        Volume_(Currency) Weighted_Price  \n",
      "0            2.0000000193           4.39  \n",
      "1                     NaN            NaN  \n",
      "2                     NaN            NaN  \n",
      "3                     NaN            NaN  \n",
      "4                     NaN            NaN  \n",
      "...                   ...            ...  \n",
      "4727772      27804.572129   28806.429798  \n",
      "4727773      68332.350629   28846.441863  \n",
      "4727774      71232.784464   28879.056266  \n",
      "4727775      211870.91266   28893.695831  \n",
      "4727776      166449.70932   28909.166061  \n",
      "\n",
      "[4727777 rows x 8 columns]\n",
      "Processed dataframe:              Timestamp  Volume_(BTC)  Weighted_Price\n",
      "0        1.451606e+09      0.000000        0.000000\n",
      "1        1.451606e+09      0.080631      430.890000\n",
      "2        1.451607e+09      0.143257      430.890000\n",
      "3        1.451607e+09      0.000000        0.000000\n",
      "4        1.451607e+09      1.032161      430.773269\n",
      "...               ...           ...             ...\n",
      "2629436  1.609373e+09      0.965221    28806.429798\n",
      "2629437  1.609373e+09      2.368831    28846.441863\n",
      "2629438  1.609373e+09      2.466590    28879.056266\n",
      "2629439  1.609373e+09      7.332773    28893.695831\n",
      "2629440  1.609373e+09      5.757679    28909.166061\n",
      "\n",
      "[2629441 rows x 3 columns]\n"
     ]
    }
   ],
   "source": [
    "# Process with Panda dataframe\n",
    "prices_df = pd.DataFrame(prices[1:], columns=prices[0])\n",
    "\n",
    "print(\"Original dataframe: \", prices_df)\n",
    "\n",
    "prices_df = prices_df.drop(columns=[\"Open\", \"High\", \"Low\", \"Close\", \"Volume_(Currency)\"])\n",
    "prices_df = prices_df.astype(float)\n",
    "prices_df = prices_df.fillna(0) # Replace NaN with 0 (time where trade volume = 0)\n",
    "prices_df = prices_df.loc[prices_df[\"Timestamp\"] >= TIME_BEG] # Cut off from desired begin time\n",
    "prices_df = prices_df.reset_index(drop=True)\n",
    "\n",
    "print(\"Processed dataframe: \", prices_df)"
   ]
  },
  {
   "cell_type": "code",
   "execution_count": 5,
   "metadata": {},
   "outputs": [],
   "source": [
    "# Convert dataframe to torch tensor\n",
    "prices_tensor = torch.from_numpy(prices_df.values)"
   ]
  },
  {
   "cell_type": "code",
   "execution_count": 6,
   "metadata": {
    "tags": []
   },
   "outputs": [],
   "source": [
    "# Summarize prices by each TIME_INTERVAL using Volume Weighted Average Price (VWAP) calculations\n",
    "num_data = prices_tensor.shape[0] // TIME_INTERVAL\n",
    "shape = (num_data, 2)\n",
    "condensed_prices_tensor = torch.empty(shape)\n",
    "\n",
    "j = 0\n",
    "for i in range(0, prices_tensor.shape[0] - TIME_INTERVAL, TIME_INTERVAL):\n",
    "    condensed_prices_tensor[j, 0] = prices_tensor[i, 0] # Time stamp\n",
    "\n",
    "    # Calculate WVAP\n",
    "    volume_weighted_sum = torch.sum(prices_tensor[i:i+TIME_INTERVAL, 1] * prices_tensor[i:i+TIME_INTERVAL, 2])\n",
    "    total_volume = torch.sum(prices_tensor[i:i+TIME_INTERVAL, 1])\n",
    "    wvap = volume_weighted_sum / total_volume\n",
    "\n",
    "    # If no trade in this time interval use the price in the previous one\n",
    "    # Here assume that first TIME_INTERVAL since TIME_BEG has > 0 trade volume\n",
    "    if total_volume == 0:\n",
    "        condensed_prices_tensor[j, 1] = condensed_prices_tensor[j-1, 1]\n",
    "    else:\n",
    "        condensed_prices_tensor[j, 1] = wvap\n",
    "    \n",
    "    j += 1"
   ]
  },
  {
   "cell_type": "code",
   "execution_count": 7,
   "metadata": {},
   "outputs": [
    {
     "name": "stdout",
     "output_type": "stream",
     "text": [
      "Original price data shape:  torch.Size([2629441, 3])\n",
      "Time condensed price data shape:  torch.Size([43824, 2])\n",
      "Condensed price data: \n",
      " tensor([[1.4516e+09, 4.3146e+02],\n",
      "        [1.4516e+09, 4.3027e+02],\n",
      "        [1.4516e+09, 4.3068e+02],\n",
      "        ...,\n",
      "        [1.6094e+09, 2.8804e+04],\n",
      "        [1.6094e+09, 2.8800e+04],\n",
      "        [1.6094e+09, 2.8817e+04]])\n"
     ]
    },
    {
     "data": {
      "text/plain": [
       "[<matplotlib.lines.Line2D at 0x7f08a28331d0>]"
      ]
     },
     "execution_count": 7,
     "metadata": {},
     "output_type": "execute_result"
    },
    {
     "data": {
      "image/png": "[encoded data removed]",
      "text/plain": [
       "<Figure size 432x288 with 1 Axes>"
      ]
     },
     "metadata": {
      "needs_background": "light"
     },
     "output_type": "display_data"
    }
   ],
   "source": [
    "print(\"Original price data shape: \", prices_tensor.shape)\n",
    "print(\"Time condensed price data shape: \", condensed_prices_tensor.shape)\n",
    "print(\"Condensed price data: \\n\", condensed_prices_tensor)\n",
    "\n",
    "plt.plot(condensed_prices_tensor[:,0], condensed_prices_tensor[:,1], label=\"Prices\")"
   ]
  },
  {
   "cell_type": "code",
   "execution_count": 8,
   "metadata": {},
   "outputs": [
    {
     "name": "stdout",
     "output_type": "stream",
     "text": [
      "Max 1390.5819091796875\n",
      "Min -1557.09326171875\n",
      "Mean 1.2321317195892334\n",
      "Standard deviation 73.8203353881836\n"
     ]
    },
    {
     "data": {
      "image/png": "[encoded data removed]",
      "text/plain": [
       "<Figure size 432x288 with 1 Axes>"
      ]
     },
     "metadata": {
      "needs_background": "light"
     },
     "output_type": "display_data"
    }
   ],
   "source": [
    "# Convert price to change in price in one ten thousanth\n",
    "price_change = (condensed_prices_tensor[1:, 1] - condensed_prices_tensor[:-1, 1]) / condensed_prices_tensor[:-1, 1]\n",
    "price_change *= 10000\n",
    "\n",
    "plt.plot(condensed_prices_tensor[1:,0], price_change, label=\"Price Change\")\n",
    "\n",
    "mini = torch.min(price_change)\n",
    "maxi = torch.max(price_change)\n",
    "mean = torch.mean(price_change)\n",
    "std = torch.std(price_change)\n",
    "\n",
    "print(\"Max\", maxi.item())\n",
    "print(\"Min\", mini.item())\n",
    "print(\"Mean\", mean.item())\n",
    "print(\"Standard deviation\", std.item())"
   ]
  },
  {
   "cell_type": "code",
   "execution_count": 9,
   "metadata": {},
   "outputs": [],
   "source": [
    "# Checking for nan data\n",
    "assert(torch.sum(price_change != price_change) == 0)"
   ]
  },
  {
   "cell_type": "code",
   "execution_count": 10,
   "metadata": {},
   "outputs": [
    {
     "name": "stdout",
     "output_type": "stream",
     "text": [
      "Mean 6.963826737482748e-10\n",
      "Standard deviation 1.0\n"
     ]
    },
    {
     "data": {
      "image/png": "[encoded data removed]",
      "text/plain": [
       "<Figure size 432x288 with 1 Axes>"
      ]
     },
     "metadata": {
      "needs_background": "light"
     },
     "output_type": "display_data"
    }
   ],
   "source": [
    "# Normalize\n",
    "price_change = (price_change - mean) / std\n",
    "plt.plot(condensed_prices_tensor[1:,0], price_change, label=\"Price Change\")\n",
    "\n",
    "mean = torch.mean(price_change)\n",
    "std = torch.std(price_change)\n",
    "\n",
    "print(\"Mean\", mean.item())\n",
    "print(\"Standard deviation\", std.item())"
   ]
  },
  {
   "cell_type": "code",
   "execution_count": 14,
   "metadata": {
    "tags": []
   },
   "outputs": [],
   "source": [
    "# Make input time serie data and target time serie data tensor \n",
    "num_data = (len(condensed_prices_tensor) - LEN_ENCODE_SERIE - LEN_DECODE_SERIE) // LEN_DECODE_SERIE\n",
    "\n",
    "X_shape = (num_data, LEN_ENCODE_SERIE)\n",
    "y_shape = (num_data, LEN_DECODE_SERIE)\n",
    "\n",
    "X, y = torch.empty(X_shape), torch.empty(y_shape)\n",
    "\n",
    "for i in range(num_data):\n",
    "    start = i * LEN_DECODE_SERIE\n",
    "    X[i] = price_change[start:start+LEN_ENCODE_SERIE]\n",
    "    y[i] = price_change[start+LEN_ENCODE_SERIE:start+LEN_ENCODE_SERIE+LEN_DECODE_SERIE]\n"
   ]
  },
  {
   "cell_type": "code",
   "execution_count": 15,
   "metadata": {},
   "outputs": [
    {
     "name": "stdout",
     "output_type": "stream",
     "text": [
      "Encode time serie data shape: (21899, 24)\n",
      "Decode time serie data shape: (21899, 2)\n",
      "Training X:\n",
      " tensor([[-0.3910,  0.1129,  0.5423,  ..., -0.2081,  0.1306,  0.3142],\n",
      "        [ 0.5423,  0.5818,  0.2776,  ...,  0.3142, -0.7401, -0.0965],\n",
      "        [ 0.2776, -0.9231,  0.9149,  ..., -0.0965,  0.0847,  0.1190],\n",
      "        ...,\n",
      "        [ 0.3761,  1.0501,  0.5906,  ...,  0.3470,  0.5219, -0.3103],\n",
      "        [ 0.5906,  0.6482,  0.7490,  ..., -0.3103,  0.5489,  0.8848],\n",
      "        [ 0.7490, -0.2948,  1.0618,  ...,  0.8848,  1.6787,  0.2729]])\n",
      "Training y:\n",
      " tensor([[-0.7401, -0.0965],\n",
      "        [ 0.0847,  0.1190],\n",
      "        [ 0.0142, -0.2152],\n",
      "        ...,\n",
      "        [ 0.5489,  0.8848],\n",
      "        [ 1.6787,  0.2729],\n",
      "        [-0.0583, -0.0335]])\n"
     ]
    }
   ],
   "source": [
    "print(\"Encode time serie data shape:\", X_shape)\n",
    "print(\"Decode time serie data shape:\", y_shape)\n",
    "print(\"Training X:\\n\", X)\n",
    "print(\"Training y:\\n\", y)"
   ]
  },
  {
   "cell_type": "code",
   "execution_count": 17,
   "metadata": {},
   "outputs": [],
   "source": [
    "torch.save(X, \"./../X.pt\")\n",
    "torch.save(y, \"./../y.pt\")"
   ]
  },
  {
   "cell_type": "code",
   "execution_count": null,
   "metadata": {},
   "outputs": [],
   "source": []
  }
 ],
 "metadata": {
  "kernelspec": {
   "display_name": "Python 3",
   "language": "python",
   "name": "python3"
  },
  "language_info": {
   "codemirror_mode": {
    "name": "ipython",
    "version": 3
   },
   "file_extension": ".py",
   "mimetype": "text/x-python",
   "name": "python",
   "nbconvert_exporter": "python",
   "pygments_lexer": "ipython3",
   "version": "3.7.6"
  }
 },
 "nbformat": 4,
 "nbformat_minor": 2
}
