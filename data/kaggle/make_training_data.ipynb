{
 "metadata": {
  "language_info": {
   "codemirror_mode": {
    "name": "ipython",
    "version": 3
   },
   "file_extension": ".py",
   "mimetype": "text/x-python",
   "name": "python",
   "nbconvert_exporter": "python",
   "pygments_lexer": "ipython3",
   "version": "3.8.3-final"
  },
  "orig_nbformat": 2,
  "kernelspec": {
   "name": "python3",
   "display_name": "Python 3.8.3 64-bit",
   "metadata": {
    "interpreter": {
     "hash": "bc599d3e4e9e4d8d8c702556ac58c3aefa37a35b06a536b877708de4e07ab3db"
    }
   }
  }
 },
 "nbformat": 4,
 "nbformat_minor": 2,
 "cells": [
  {
   "cell_type": "code",
   "execution_count": 1,
   "metadata": {},
   "outputs": [],
   "source": [
    "import torch\n",
    "import pandas as pd\n",
    "import csv"
   ]
  },
  {
   "cell_type": "code",
   "execution_count": 2,
   "metadata": {},
   "outputs": [],
   "source": [
    "# Dataset config\n",
    "TIME_BEG = 1451606400 # = year 2016\n",
    "TIME_INTERVAL = 60 # minutes\n",
    "NUM_ENCODE_TIME_STEPS = 48\n",
    "NUM_DECODE_TIME_STEPS = 5"
   ]
  },
  {
   "cell_type": "code",
   "execution_count": 3,
   "metadata": {},
   "outputs": [],
   "source": [
    "prices = None\n",
    "\n",
    "with open('kaggle_1min.csv', 'r') as f:\n",
    "    reader = csv.reader(f)\n",
    "    prices = list(reader)"
   ]
  },
  {
   "cell_type": "code",
   "execution_count": 4,
   "metadata": {},
   "outputs": [
    {
     "output_type": "stream",
     "name": "stdout",
     "text": [
      "Original dataframe: \n",
      "          Timestamp      Open      High       Low     Close Volume_(BTC)  \\\n",
      "0        1325317920      4.39      4.39      4.39      4.39   0.45558087   \n",
      "1        1325317980       NaN       NaN       NaN       NaN          NaN   \n",
      "2        1325318040       NaN       NaN       NaN       NaN          NaN   \n",
      "3        1325318100       NaN       NaN       NaN       NaN          NaN   \n",
      "4        1325318160       NaN       NaN       NaN       NaN          NaN   \n",
      "...             ...       ...       ...       ...       ...          ...   \n",
      "4727772  1609372560  28801.47  28829.42  28785.64  28829.42   0.96522104   \n",
      "4727773  1609372620  28829.42   28863.9  28829.42  28857.06   2.36883117   \n",
      "4727774  1609372680  28850.49  28900.52  28850.49  28882.82   2.46658976   \n",
      "4727775  1609372740  28910.54  28911.52   28867.6   28881.3     7.332773   \n",
      "4727776  1609372800  28893.21  28928.49  28893.21  28928.49   5.75767938   \n",
      "\n",
      "        Volume_(Currency) Weighted_Price  \n",
      "0            2.0000000193           4.39  \n",
      "1                     NaN            NaN  \n",
      "2                     NaN            NaN  \n",
      "3                     NaN            NaN  \n",
      "4                     NaN            NaN  \n",
      "...                   ...            ...  \n",
      "4727772      27804.572129   28806.429798  \n",
      "4727773      68332.350629   28846.441863  \n",
      "4727774      71232.784464   28879.056266  \n",
      "4727775      211870.91266   28893.695831  \n",
      "4727776      166449.70932   28909.166061  \n",
      "\n",
      "[4727777 rows x 8 columns]\n",
      "Processed dataframe: \n",
      "            Timestamp  Volume_(BTC)  Weighted_Price\n",
      "0        1.451606e+09      0.000000        0.000000\n",
      "1        1.451606e+09      0.080631      430.890000\n",
      "2        1.451607e+09      0.143257      430.890000\n",
      "3        1.451607e+09      0.000000        0.000000\n",
      "4        1.451607e+09      1.032161      430.773269\n",
      "...               ...           ...             ...\n",
      "2629436  1.609373e+09      0.965221    28806.429798\n",
      "2629437  1.609373e+09      2.368831    28846.441863\n",
      "2629438  1.609373e+09      2.466590    28879.056266\n",
      "2629439  1.609373e+09      7.332773    28893.695831\n",
      "2629440  1.609373e+09      5.757679    28909.166061\n",
      "\n",
      "[2629441 rows x 3 columns]\n"
     ]
    }
   ],
   "source": [
    "# Process with Panda dataframe\n",
    "prices_df = pd.DataFrame(prices[1:], columns=prices[0])\n",
    "\n",
    "print(\"Original dataframe: \")\n",
    "print(prices_df)\n",
    "\n",
    "# Want Volume Weighted Average Price (VWAP) since TIME_BEG\n",
    "prices_df = prices_df.drop(columns=[\"Open\", \"High\", \"Low\", \"Close\", \"Volume_(Currency)\"])\n",
    "prices_df = prices_df.astype(float)\n",
    "prices_df = prices_df.fillna(0) # Replace NaN with 0 (time where trade volume = 0)\n",
    "prices_df = prices_df.loc[prices_df[\"Timestamp\"] >= TIME_BEG] # Cut off from desired begin time\n",
    "prices_df = prices_df.reset_index(drop=True)\n",
    "\n",
    "print(\"Processed dataframe: \")\n",
    "print(prices_df)"
   ]
  },
  {
   "cell_type": "code",
   "execution_count": 5,
   "metadata": {
    "tags": []
   },
   "outputs": [
    {
     "output_type": "stream",
     "name": "stdout",
     "text": [
      "Original price data shape:  torch.Size([2629441, 3])\n",
      "Time condensed price data shape:  torch.Size([43824, 2])\n",
      "Condensed price data: \n",
      " tensor([[1.4516e+09, 4.3146e+02],\n",
      "        [1.4516e+09, 4.3027e+02],\n",
      "        [1.4516e+09, 4.3068e+02],\n",
      "        ...,\n",
      "        [1.6094e+09, 2.8804e+04],\n",
      "        [1.6094e+09, 2.8800e+04],\n",
      "        [1.6094e+09, 2.8817e+04]])\n"
     ]
    }
   ],
   "source": [
    "# Summarize prices by each TIME_INTERVAL using WVAP calculations\n",
    "prices_tensor = torch.from_numpy(prices_df.values)\n",
    "shape = (prices_tensor.shape[0] // TIME_INTERVAL, 2)\n",
    "condensed_prices_tensor = torch.empty(shape)\n",
    "\n",
    "print(\"Original price data shape: \", prices_tensor.shape)\n",
    "print(\"Time condensed price data shape: \", condensed_prices_tensor.shape)\n",
    "\n",
    "j = 0\n",
    "for i in range(0, prices_tensor.shape[0] - TIME_INTERVAL, TIME_INTERVAL):\n",
    "    condensed_prices_tensor[j, 0] = prices_tensor[i, 0] # Time stamp\n",
    "\n",
    "    # Calculate WVAP\n",
    "    volume_weighted_sum = torch.sum(prices_tensor[i:i+TIME_INTERVAL, 1] * prices_tensor[i:i+TIME_INTERVAL, 2])\n",
    "    total_volume = torch.sum(prices_tensor[i:i+TIME_INTERVAL, 1])\n",
    "    wvap = volume_weighted_sum / total_volume\n",
    "\n",
    "    # If no trade in this time interval use the price in the previous one\n",
    "    # Here assume that first TIME_INTERVAL since TIME_BEG has > 0 trade volume\n",
    "    if total_volume == 0:\n",
    "        condensed_prices_tensor[j, 1] = condensed_prices_tensor[j-1, 1]\n",
    "    else:\n",
    "        condensed_prices_tensor[j, 1] = wvap\n",
    "    \n",
    "    j += 1\n",
    "\n",
    "print(\"Condensed price data: \\n\", condensed_prices_tensor)"
   ]
  },
  {
   "cell_type": "code",
   "execution_count": 6,
   "metadata": {
    "tags": []
   },
   "outputs": [
    {
     "output_type": "stream",
     "name": "stdout",
     "text": [
      "Encode time serie data shape: (43771, 48)\n",
      "Decode time serie data shape: (43771, 5)\n",
      "Training X:\n",
      " tensor([[-2.7632e-03,  9.5637e-04,  4.1267e-03,  ..., -1.3626e-03,\n",
      "         -8.3544e-04,  8.8970e-04],\n",
      "        [ 9.5637e-04,  4.1267e-03,  4.4184e-03,  ..., -8.3544e-04,\n",
      "          8.8970e-04, -5.3603e-03],\n",
      "        [ 4.1267e-03,  4.4184e-03,  2.1721e-03,  ...,  8.8970e-04,\n",
      "         -5.3603e-03, -1.7559e-03],\n",
      "        ...,\n",
      "        [ 3.5812e-03, -8.7739e-04,  1.3712e-05,  ...,  2.6845e-03,\n",
      "          3.9756e-03, -2.1672e-03],\n",
      "        [-8.7739e-04,  1.3712e-05, -7.7917e-03,  ...,  3.9756e-03,\n",
      "         -2.1672e-03,  4.1753e-03],\n",
      "        [ 1.3712e-05, -7.7917e-03, -1.9747e-03,  ..., -2.1672e-03,\n",
      "          4.1753e-03,  6.6546e-03]])\n",
      "Training y:\n",
      " tensor([[-0.0054, -0.0018,  0.0029, -0.0003, -0.0007],\n",
      "        [-0.0018,  0.0029, -0.0003, -0.0007, -0.0015],\n",
      "        [ 0.0029, -0.0003, -0.0007, -0.0015,  0.0001],\n",
      "        ...,\n",
      "        [ 0.0042,  0.0067,  0.0125,  0.0021, -0.0003],\n",
      "        [ 0.0067,  0.0125,  0.0021, -0.0003, -0.0001],\n",
      "        [ 0.0125,  0.0021, -0.0003, -0.0001,  0.0006]])\n"
     ]
    }
   ],
   "source": [
    "# Make input time serie data and target time serie data tensor \n",
    "X_shape = (condensed_prices_tensor.shape[0] - NUM_ENCODE_TIME_STEPS - NUM_DECODE_TIME_STEPS, NUM_ENCODE_TIME_STEPS)\n",
    "y_shape = (condensed_prices_tensor.shape[0] - NUM_ENCODE_TIME_STEPS - NUM_DECODE_TIME_STEPS, NUM_DECODE_TIME_STEPS)\n",
    "\n",
    "print(\"Encode time serie data shape:\", X_shape)\n",
    "print(\"Decode time serie data shape:\", y_shape)\n",
    "\n",
    "X = torch.empty(X_shape)\n",
    "y = torch.empty(y_shape)\n",
    "\n",
    "# # Raw price\n",
    "# for i in range(X.shape[0]):\n",
    "#     input_end_i = i + NUM_ENCODE_TIME_STEPS\n",
    "#     target_end_i = input_end_i + NUM_DECODE_TIME_STEPS\n",
    "#     X[i] = condensed_prices_tensor[i:input_end_i, 1]\n",
    "#     y[i] = condensed_prices_tensor[input_end_i:target_end_i, 1]\n",
    "\n",
    "# Growth from last time step (more numerically stable for the neural net)\n",
    "for i in range(X.shape[0]):\n",
    "    serie_end_i = i + NUM_ENCODE_TIME_STEPS + NUM_DECODE_TIME_STEPS\n",
    "    time_serie = (condensed_prices_tensor[i+1:serie_end_i+1, 1] - condensed_prices_tensor[i:serie_end_i, 1]) / condensed_prices_tensor[i:serie_end_i, 1]\n",
    "    X[i] = time_serie[:NUM_ENCODE_TIME_STEPS]\n",
    "    y[i] = time_serie[NUM_ENCODE_TIME_STEPS:]\n",
    "\n",
    "print(\"Training X:\\n\", X)\n",
    "print(\"Training y:\\n\", y)"
   ]
  },
  {
   "cell_type": "code",
   "execution_count": 7,
   "metadata": {},
   "outputs": [],
   "source": [
    "\n",
    "torch.save(X, \"./../X.pt\")\n",
    "torch.save(y, \"./../y.pt\")"
   ]
  },
  {
   "cell_type": "code",
   "execution_count": 8,
   "metadata": {},
   "outputs": [
    {
     "output_type": "stream",
     "name": "stdout",
     "text": [
      "tensor([[-2.7632e-03,  9.5637e-04,  4.1267e-03,  ..., -1.3626e-03,\n         -8.3544e-04,  8.8970e-04],\n        [ 9.5637e-04,  4.1267e-03,  4.4184e-03,  ..., -8.3544e-04,\n          8.8970e-04, -5.3603e-03],\n        [ 4.1267e-03,  4.4184e-03,  2.1721e-03,  ...,  8.8970e-04,\n         -5.3603e-03, -1.7559e-03],\n        ...,\n        [ 3.5812e-03, -8.7739e-04,  1.3712e-05,  ...,  2.6845e-03,\n          3.9756e-03, -2.1672e-03],\n        [-8.7739e-04,  1.3712e-05, -7.7917e-03,  ...,  3.9756e-03,\n         -2.1672e-03,  4.1753e-03],\n        [ 1.3712e-05, -7.7917e-03, -1.9747e-03,  ..., -2.1672e-03,\n          4.1753e-03,  6.6546e-03]])\ntensor([[-0.0054, -0.0018,  0.0029, -0.0003, -0.0007],\n        [-0.0018,  0.0029, -0.0003, -0.0007, -0.0015],\n        [ 0.0029, -0.0003, -0.0007, -0.0015,  0.0001],\n        ...,\n        [ 0.0042,  0.0067,  0.0125,  0.0021, -0.0003],\n        [ 0.0067,  0.0125,  0.0021, -0.0003, -0.0001],\n        [ 0.0125,  0.0021, -0.0003, -0.0001,  0.0006]])\n"
     ]
    }
   ],
   "source": [
    "X = torch.load(\"./../X.pt\")\n",
    "y = torch.load(\"./../y.pt\")\n",
    "print(X)\n",
    "print(y)"
   ]
  },
  {
   "cell_type": "code",
   "execution_count": 9,
   "metadata": {},
   "outputs": [
    {
     "output_type": "stream",
     "name": "stdout",
     "text": [
      "torch.Size([43771, 48])\ntensor(0.0001)\nMaximum price change in 60 minutes tensor(0.1391)\nMinimum price change in 60 minutes tensor(-0.1557)\n"
     ]
    }
   ],
   "source": [
    "print(X.shape)\n",
    "print(torch.mean(X))\n",
    "print(\"Maximum price change in\", TIME_INTERVAL, \"minutes\", torch.max(X))\n",
    "print(\"Minimum price change in\", TIME_INTERVAL, \"minutes\", torch.min(X))"
   ]
  },
  {
   "cell_type": "code",
   "execution_count": 10,
   "metadata": {},
   "outputs": [],
   "source": [
    "# Checking for nan data\n",
    "assert(torch.sum(X != X) == 0)\n",
    "assert(torch.sum(y != y) == 0)"
   ]
  }
 ]
}