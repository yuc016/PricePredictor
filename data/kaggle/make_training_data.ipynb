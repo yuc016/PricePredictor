{
 "metadata": {
  "language_info": {
   "codemirror_mode": {
    "name": "ipython",
    "version": 3
   },
   "file_extension": ".py",
   "mimetype": "text/x-python",
   "name": "python",
   "nbconvert_exporter": "python",
   "pygments_lexer": "ipython3",
   "version": "3.8.3-final"
  },
  "orig_nbformat": 2,
  "kernelspec": {
   "name": "python3",
   "display_name": "Python 3.8.3 64-bit",
   "metadata": {
    "interpreter": {
     "hash": "bc599d3e4e9e4d8d8c702556ac58c3aefa37a35b06a536b877708de4e07ab3db"
    }
   }
  }
 },
 "nbformat": 4,
 "nbformat_minor": 2,
 "cells": [
  {
   "cell_type": "code",
   "execution_count": 1,
   "metadata": {},
   "outputs": [],
   "source": [
    "import torch\n",
    "import pandas as pd\n",
    "import csv"
   ]
  },
  {
   "cell_type": "code",
   "execution_count": 8,
   "metadata": {},
   "outputs": [],
   "source": [
    "# Dataset config\n",
    "TIME_BEG = 1451606400 # = year 2016\n",
    "TIME_INTERVAL = 60 # minutes\n",
    "NUM_ENCODE_TIME_STEPS = 48\n",
    "NUM_DECODE_TIME_STEPS = 5"
   ]
  },
  {
   "cell_type": "code",
   "execution_count": 9,
   "metadata": {},
   "outputs": [],
   "source": [
    "prices = None\n",
    "\n",
    "with open('kaggle_1min.csv', 'r') as f:\n",
    "    reader = csv.reader(f)\n",
    "    prices = list(reader)"
   ]
  },
  {
   "cell_type": "code",
   "execution_count": 10,
   "metadata": {},
   "outputs": [
    {
     "output_type": "stream",
     "name": "stdout",
     "text": [
      "Original dataframe: \n",
      "          Timestamp      Open      High       Low     Close Volume_(BTC)  \\\n",
      "0        1325317920      4.39      4.39      4.39      4.39   0.45558087   \n",
      "1        1325317980       NaN       NaN       NaN       NaN          NaN   \n",
      "2        1325318040       NaN       NaN       NaN       NaN          NaN   \n",
      "3        1325318100       NaN       NaN       NaN       NaN          NaN   \n",
      "4        1325318160       NaN       NaN       NaN       NaN          NaN   \n",
      "...             ...       ...       ...       ...       ...          ...   \n",
      "4727772  1609372560  28801.47  28829.42  28785.64  28829.42   0.96522104   \n",
      "4727773  1609372620  28829.42   28863.9  28829.42  28857.06   2.36883117   \n",
      "4727774  1609372680  28850.49  28900.52  28850.49  28882.82   2.46658976   \n",
      "4727775  1609372740  28910.54  28911.52   28867.6   28881.3     7.332773   \n",
      "4727776  1609372800  28893.21  28928.49  28893.21  28928.49   5.75767938   \n",
      "\n",
      "        Volume_(Currency) Weighted_Price  \n",
      "0            2.0000000193           4.39  \n",
      "1                     NaN            NaN  \n",
      "2                     NaN            NaN  \n",
      "3                     NaN            NaN  \n",
      "4                     NaN            NaN  \n",
      "...                   ...            ...  \n",
      "4727772      27804.572129   28806.429798  \n",
      "4727773      68332.350629   28846.441863  \n",
      "4727774      71232.784464   28879.056266  \n",
      "4727775      211870.91266   28893.695831  \n",
      "4727776      166449.70932   28909.166061  \n",
      "\n",
      "[4727777 rows x 8 columns]\n",
      "Processed dataframe: \n",
      "            Timestamp  Volume_(BTC)  Weighted_Price\n",
      "0        1.451606e+09      0.000000        0.000000\n",
      "1        1.451606e+09      0.080631      430.890000\n",
      "2        1.451607e+09      0.143257      430.890000\n",
      "3        1.451607e+09      0.000000        0.000000\n",
      "4        1.451607e+09      1.032161      430.773269\n",
      "...               ...           ...             ...\n",
      "2629436  1.609373e+09      0.965221    28806.429798\n",
      "2629437  1.609373e+09      2.368831    28846.441863\n",
      "2629438  1.609373e+09      2.466590    28879.056266\n",
      "2629439  1.609373e+09      7.332773    28893.695831\n",
      "2629440  1.609373e+09      5.757679    28909.166061\n",
      "\n",
      "[2629441 rows x 3 columns]\n"
     ]
    }
   ],
   "source": [
    "# Process with Panda dataframe\n",
    "prices_df = pd.DataFrame(prices[1:], columns=prices[0])\n",
    "\n",
    "print(\"Original dataframe: \")\n",
    "print(prices_df)\n",
    "\n",
    "# Want Volume Weighted Average Price (VWAP) since TIME_BEG\n",
    "prices_df = prices_df.drop(columns=[\"Open\", \"High\", \"Low\", \"Close\", \"Volume_(Currency)\"])\n",
    "prices_df = prices_df.astype(float)\n",
    "prices_df = prices_df.fillna(0) # Replace NaN with 0 (time where trade volume = 0)\n",
    "prices_df = prices_df.loc[prices_df[\"Timestamp\"] >= TIME_BEG]\n",
    "prices_df = prices_df.reset_index(drop=True)\n",
    "\n",
    "print(\"Processed dataframe: \")\n",
    "print(prices_df)"
   ]
  },
  {
   "cell_type": "code",
   "execution_count": 31,
   "metadata": {
    "tags": []
   },
   "outputs": [
    {
     "output_type": "stream",
     "name": "stdout",
     "text": [
      "Original price data shape:  torch.Size([2629441, 3])\n",
      "Time condensed price data shape:  torch.Size([43824, 2])\n",
      "Condensed price data: \n",
      " tensor([[1.4516e+09, 4.3146e+02],\n",
      "        [1.4516e+09, 4.3027e+02],\n",
      "        [1.4516e+09, 4.3068e+02],\n",
      "        ...,\n",
      "        [1.6094e+09, 2.8804e+04],\n",
      "        [1.6094e+09, 2.8800e+04],\n",
      "        [1.6094e+09, 2.8817e+04]])\n"
     ]
    }
   ],
   "source": [
    "# Summarize prices by each TIME_INTERVAL using WVAP calculations\n",
    "prices_tensor = torch.from_numpy(prices_df.values)\n",
    "shape = (prices_tensor.shape[0] // TIME_INTERVAL, 2)\n",
    "condensed_prices_tensor = torch.empty(shape)\n",
    "\n",
    "print(\"Original price data shape: \", prices_tensor.shape)\n",
    "print(\"Time condensed price data shape: \", condensed_prices_tensor.shape)\n",
    "\n",
    "j = 0\n",
    "for i in range(0, prices_tensor.shape[0] - TIME_INTERVAL, TIME_INTERVAL):\n",
    "    condensed_prices_tensor[j, 0] = prices_tensor[i, 0]\n",
    "\n",
    "    volume_weighted_sum = torch.sum(prices_tensor[i:i+TIME_INTERVAL, 1] * prices_tensor[i:i+TIME_INTERVAL, 2])\n",
    "    total_volume = torch.sum(prices_tensor[i:i+TIME_INTERVAL, 1])\n",
    "    condensed_prices_tensor[j, 1] = volume_weighted_sum / total_volume\n",
    "    j += 1\n",
    "\n",
    "print(\"Condensed price data: \\n\", condensed_prices_tensor)"
   ]
  },
  {
   "cell_type": "code",
   "execution_count": 35,
   "metadata": {},
   "outputs": [
    {
     "output_type": "stream",
     "name": "stdout",
     "text": [
      "(43772, 48)\n",
      "(43772, 5)\n",
      "Training X:\n",
      " tensor([[  431.4624,   430.2702,   430.6817,  ...,   433.9706,   433.3792,\n",
      "           433.0172],\n",
      "        [  430.2702,   430.6817,   432.4590,  ...,   433.3792,   433.0172,\n",
      "           433.4024],\n",
      "        [  430.6817,   432.4590,   434.3698,  ...,   433.0172,   433.4024,\n",
      "           431.0793],\n",
      "        ...,\n",
      "        [27086.8359, 27063.0703, 27063.4414,  ..., 28040.3770, 28151.8555,\n",
      "         28090.8438],\n",
      "        [27063.0703, 27063.4414, 26852.5723,  ..., 28151.8555, 28090.8438,\n",
      "         28208.1328],\n",
      "        [27063.4414, 26852.5723, 26799.5469,  ..., 28090.8438, 28208.1328,\n",
      "         28395.8477]])\n",
      "Training y:\n",
      " tensor([[  433.4024,   431.0793,   430.3223,   431.5531,   431.4103],\n",
      "        [  431.0793,   430.3223,   431.5531,   431.4103,   431.1282],\n",
      "        [  430.3223,   431.5531,   431.4103,   431.1282,   430.4728],\n",
      "        ...,\n",
      "        [28208.1328, 28395.8477, 28751.2402, 28812.7051, 28803.8555],\n",
      "        [28395.8477, 28751.2402, 28812.7051, 28803.8555, 28800.2773],\n",
      "        [28751.2402, 28812.7051, 28803.8555, 28800.2773, 28817.0410]])\n"
     ]
    }
   ],
   "source": [
    "# Make input time serie data and target time serie data tensor \n",
    "X_shape = (condensed_prices_tensor.shape[0] - NUM_ENCODE_TIME_STEPS - NUM_DECODE_TIME_STEPS + 1, NUM_ENCODE_TIME_STEPS)\n",
    "y_shape = (condensed_prices_tensor.shape[0] - NUM_ENCODE_TIME_STEPS - NUM_DECODE_TIME_STEPS + 1, NUM_DECODE_TIME_STEPS)\n",
    "\n",
    "print(X_shape)\n",
    "print(y_shape)\n",
    "\n",
    "X = torch.empty(X_shape)\n",
    "y = torch.empty(y_shape)\n",
    "\n",
    "for i in range(X.shape[0]):\n",
    "    input_end_i = i + NUM_ENCODE_TIME_STEPS\n",
    "    target_end_i = input_end_i + NUM_DECODE_TIME_STEPS\n",
    "    X[i] = condensed_prices_tensor[i:input_end_i, 1]\n",
    "    y[i] = condensed_prices_tensor[input_end_i:target_end_i, 1]\n",
    "\n",
    "print(\"Training X:\\n\", X)\n",
    "print(\"Training y:\\n\", y)"
   ]
  },
  {
   "cell_type": "code",
   "execution_count": 36,
   "metadata": {},
   "outputs": [],
   "source": [
    "\n",
    "torch.save(X, \"./../X.pt\")\n",
    "torch.save(y, \"./../y.pt\")"
   ]
  },
  {
   "cell_type": "code",
   "execution_count": 41,
   "metadata": {},
   "outputs": [
    {
     "output_type": "stream",
     "name": "stdout",
     "text": [
      "tensor([[  431.4624,   430.2702,   430.6817,  ...,   433.9706,   433.3792,\n           433.0172],\n        [  430.2702,   430.6817,   432.4590,  ...,   433.3792,   433.0172,\n           433.4024],\n        [  430.6817,   432.4590,   434.3698,  ...,   433.0172,   433.4024,\n           431.0793],\n        ...,\n        [27086.8359, 27063.0703, 27063.4414,  ..., 28040.3770, 28151.8555,\n         28090.8438],\n        [27063.0703, 27063.4414, 26852.5723,  ..., 28151.8555, 28090.8438,\n         28208.1328],\n        [27063.4414, 26852.5723, 26799.5469,  ..., 28090.8438, 28208.1328,\n         28395.8477]])\ntensor([[  433.4024,   431.0793,   430.3223,   431.5531,   431.4103],\n        [  431.0793,   430.3223,   431.5531,   431.4103,   431.1282],\n        [  430.3223,   431.5531,   431.4103,   431.1282,   430.4728],\n        ...,\n        [28208.1328, 28395.8477, 28751.2402, 28812.7051, 28803.8555],\n        [28395.8477, 28751.2402, 28812.7051, 28803.8555, 28800.2773],\n        [28751.2402, 28812.7051, 28803.8555, 28800.2773, 28817.0410]])\n"
     ]
    }
   ],
   "source": [
    "X = torch.load(\"./../X.pt\")\n",
    "y = torch.load(\"./../y.pt\")\n",
    "print(X)\n",
    "print(y)"
   ]
  },
  {
   "cell_type": "code",
   "execution_count": null,
   "metadata": {},
   "outputs": [],
   "source": []
  }
 ]
}