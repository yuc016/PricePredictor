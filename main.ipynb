{
 "metadata": {
  "language_info": {
   "codemirror_mode": {
    "name": "ipython",
    "version": 3
   },
   "file_extension": ".py",
   "mimetype": "text/x-python",
   "name": "python",
   "nbconvert_exporter": "python",
   "pygments_lexer": "ipython3",
   "version": "3.8.3-final"
  },
  "orig_nbformat": 2,
  "kernelspec": {
   "name": "python3",
   "display_name": "Python 3.8.3 64-bit",
   "metadata": {
    "interpreter": {
     "hash": "bc599d3e4e9e4d8d8c702556ac58c3aefa37a35b06a536b877708de4e07ab3db"
    }
   }
  }
 },
 "nbformat": 4,
 "nbformat_minor": 2,
 "cells": [
  {
   "cell_type": "code",
   "execution_count": 2,
   "metadata": {},
   "outputs": [],
   "source": [
    "from trainer import PPNeuralTrainer\n",
    "import sys"
   ]
  },
  {
   "cell_type": "code",
   "execution_count": 55,
   "metadata": {},
   "outputs": [],
   "source": [
    "if __name__ == \"__main__\":\n",
    "    config_name = \"config1\"\n",
    "\n",
    "    if len(sys.argv) > 1:\n",
    "        config_name = sys.argv[1]\n",
    "\n",
    "    print(\"Using Configuration: \", config_name)\n",
    "    trainer = PPNeuralTrainer(config_name)\n",
    "    trainer.go()\n",
    "    trainer.test()\n"
   ]
  }
 ]
}