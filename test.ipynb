{
 "metadata": {
  "language_info": {
   "codemirror_mode": {
    "name": "ipython",
    "version": 3
   },
   "file_extension": ".py",
   "mimetype": "text/x-python",
   "name": "python",
   "nbconvert_exporter": "python",
   "pygments_lexer": "ipython3",
   "version": "3.8.3-final"
  },
  "orig_nbformat": 2,
  "kernelspec": {
   "name": "python3",
   "display_name": "Python 3.8.3 64-bit",
   "metadata": {
    "interpreter": {
     "hash": "bc599d3e4e9e4d8d8c702556ac58c3aefa37a35b06a536b877708de4e07ab3db"
    }
   }
  }
 },
 "nbformat": 4,
 "nbformat_minor": 2,
 "cells": [
  {
   "cell_type": "code",
   "execution_count": 5,
   "metadata": {},
   "outputs": [
    {
     "output_type": "stream",
     "name": "stdout",
     "text": [
      "tensor([[ 1,  2,  3],\n        [ 4,  5,  6],\n        [ 7,  8,  9],\n        [10, 11, 12],\n        [13, 14, 15]])\ntensor([[ -1,  -1],\n        [ -4,  -4],\n        [ -7,  -7],\n        [-10, -10],\n        [-13, -13]])\n"
     ]
    }
   ],
   "source": [
    "from dataset import *\n",
    "\n",
    "x = torch.tensor([[1,2,3],[4,5,6],[7,8,9],[10,11,12],[13,14,15]])\n",
    "y = torch.tensor([[-1,-1],[-4,-4],[-7,-7],[-10,-10],[-13,-13]])\n",
    "print(x)\n",
    "print(y)"
   ]
  },
  {
   "cell_type": "code",
   "execution_count": 12,
   "metadata": {},
   "outputs": [],
   "source": []
  },
  {
   "cell_type": "code",
   "execution_count": 17,
   "metadata": {},
   "outputs": [
    {
     "output_type": "stream",
     "name": "stdout",
     "text": [
      "tensor([[4., 5., 6.],\n        [7., 8., 9.],\n        [1., 2., 3.]])\ntensor([[10., 11., 12.],\n        [13., 14., 15.]])\ntensor([[-4., -4.],\n        [-7., -7.],\n        [-1., -1.]])\ntensor([[-10., -10.],\n        [-13., -13.]])\n"
     ]
    }
   ],
   "source": [
    "(X1, X2), (y1,y2) = split_data(*shuffle_data(x,y),0.7)\n",
    "print(X1)\n",
    "print(X2)\n",
    "print(y1)\n",
    "print(y2)\n"
   ]
  },
  {
   "cell_type": "code",
   "execution_count": null,
   "metadata": {},
   "outputs": [],
   "source": []
  }
 ]
}